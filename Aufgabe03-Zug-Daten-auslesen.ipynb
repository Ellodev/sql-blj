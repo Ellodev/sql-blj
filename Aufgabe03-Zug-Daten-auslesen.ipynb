{
    "metadata": {
        "kernelspec": {
            "name": "SQL",
            "display_name": "SQL",
            "language": "sql"
        },
        "language_info": {
            "name": "sql",
            "version": ""
        }
    },
    "nbformat_minor": 2,
    "nbformat": 4,
    "cells": [
        {
            "cell_type": "code",
            "source": [
                "USE Zugdatenbank;\r\n",
                "GO\r\n",
                "\r\n",
                "SELECT Name, LiegtInKanton\r\n",
                "FROM Bahnhoefe\r\n",
                "WHERE LiegtInKanton = 'Basel Stadt'"
            ],
            "metadata": {
                "azdata_cell_guid": "e0055a76-8c77-426e-bf6f-5bfbe6d98c50",
                "language": "sql",
                "tags": []
            },
            "outputs": [
                {
                    "output_type": "display_data",
                    "data": {
                        "text/html": "Commands completed successfully."
                    },
                    "metadata": {}
                },
                {
                    "output_type": "display_data",
                    "data": {
                        "text/html": "(2 rows affected)"
                    },
                    "metadata": {}
                },
                {
                    "output_type": "display_data",
                    "data": {
                        "text/html": "Total execution time: 00:00:00.022"
                    },
                    "metadata": {}
                },
                {
                    "output_type": "execute_result",
                    "execution_count": 4,
                    "data": {
                        "application/vnd.dataresource+json": {
                            "schema": {
                                "fields": [
                                    {
                                        "name": "Name"
                                    },
                                    {
                                        "name": "LiegtInKanton"
                                    }
                                ]
                            },
                            "data": [
                                {
                                    "Name": "Basel Bad",
                                    "LiegtInKanton": "Basel Stadt"
                                },
                                {
                                    "Name": "Basel SBB",
                                    "LiegtInKanton": "Basel Stadt"
                                }
                            ]
                        },
                        "text/html": "<table><tr><th>Name</th><th>LiegtInKanton</th></tr><tr><td>Basel Bad</td><td>Basel Stadt</td></tr><tr><td>Basel SBB</td><td>Basel Stadt</td></tr></table>"
                    },
                    "metadata": {}
                }
            ],
            "execution_count": 4
        },
        {
            "cell_type": "code",
            "source": [
                "USE Zugdatenbank;\r\n",
                "GO\r\n",
                "\r\n",
                "SELECT Verbindet.Zug, Verbindet.Von, Verbindet.Nach, Verbindet.Abfahrt\r\n",
                "FROM Verbindet\r\n",
                "INNER JOIN Bahnhoefe ON Verbindet.Von=Bahnhoefe.Name\r\n",
                "WHERE Verbindet.Abfahrt BETWEEN '14:00:00' AND '15:00:00' AND Bahnhoefe.LiegtInKanton = 'Basel Stadt';"
            ],
            "metadata": {
                "azdata_cell_guid": "c4619196-42fc-4de4-b2c4-8f3d1900495d",
                "language": "sql",
                "tags": []
            },
            "outputs": [
                {
                    "output_type": "display_data",
                    "data": {
                        "text/html": "Commands completed successfully."
                    },
                    "metadata": {}
                },
                {
                    "output_type": "display_data",
                    "data": {
                        "text/html": "(18 rows affected)"
                    },
                    "metadata": {}
                },
                {
                    "output_type": "display_data",
                    "data": {
                        "text/html": "(3 rows affected)"
                    },
                    "metadata": {}
                },
                {
                    "output_type": "display_data",
                    "data": {
                        "text/html": "Total execution time: 00:00:00.075"
                    },
                    "metadata": {}
                },
                {
                    "output_type": "execute_result",
                    "execution_count": 11,
                    "data": {
                        "application/vnd.dataresource+json": {
                            "schema": {
                                "fields": [
                                    {
                                        "name": "Zug"
                                    },
                                    {
                                        "name": "Von"
                                    },
                                    {
                                        "name": "Nach"
                                    },
                                    {
                                        "name": "Abfahrt"
                                    }
                                ]
                            },
                            "data": [
                                {
                                    "Zug": "1",
                                    "Von": "Luzern",
                                    "Nach": "Zug",
                                    "Abfahrt": "12:12:00"
                                },
                                {
                                    "Zug": "1",
                                    "Von": "Thalwil",
                                    "Nach": "Zürich HB",
                                    "Abfahrt": "12:52:00"
                                },
                                {
                                    "Zug": "1",
                                    "Von": "Zug",
                                    "Nach": "Thalwil",
                                    "Abfahrt": "12:37:00"
                                },
                                {
                                    "Zug": "2",
                                    "Von": "Thalwil",
                                    "Nach": "Zug",
                                    "Abfahrt": "13:23:00"
                                },
                                {
                                    "Zug": "2",
                                    "Von": "Zug",
                                    "Nach": "Luzern",
                                    "Abfahrt": "13:42:00"
                                },
                                {
                                    "Zug": "2",
                                    "Von": "Zürich HB",
                                    "Nach": "Thalwil",
                                    "Abfahrt": "13:15:00"
                                },
                                {
                                    "Zug": "3",
                                    "Von": "Luzern",
                                    "Nach": "Horw",
                                    "Abfahrt": "14:10:00"
                                },
                                {
                                    "Zug": "4",
                                    "Von": "Horw",
                                    "Nach": "Luzern",
                                    "Abfahrt": "14:21:00"
                                },
                                {
                                    "Zug": "5",
                                    "Von": "Luzern",
                                    "Nach": "Olten",
                                    "Abfahrt": "14:12:00"
                                },
                                {
                                    "Zug": "5",
                                    "Von": "Olten",
                                    "Nach": "Basel SBB",
                                    "Abfahrt": "14:45:00"
                                },
                                {
                                    "Zug": "6",
                                    "Von": "Basel SBB",
                                    "Nach": "Olten",
                                    "Abfahrt": "15:12:00"
                                },
                                {
                                    "Zug": "6",
                                    "Von": "Olten",
                                    "Nach": "Luzern",
                                    "Abfahrt": "15:36:00"
                                },
                                {
                                    "Zug": "7",
                                    "Von": "Baden",
                                    "Nach": "Basel SBB",
                                    "Abfahrt": "13:39:00"
                                },
                                {
                                    "Zug": "7",
                                    "Von": "Basel SBB",
                                    "Nach": "Basel Bad",
                                    "Abfahrt": "14:08:00"
                                },
                                {
                                    "Zug": "7",
                                    "Von": "Zürich HB",
                                    "Nach": "Baden",
                                    "Abfahrt": "13:25:00"
                                },
                                {
                                    "Zug": "8",
                                    "Von": "Baden",
                                    "Nach": "Zürich HB",
                                    "Abfahrt": "15:07:00"
                                },
                                {
                                    "Zug": "8",
                                    "Von": "Basel Bad",
                                    "Nach": "Basel SBB",
                                    "Abfahrt": "14:26:00"
                                },
                                {
                                    "Zug": "8",
                                    "Von": "Basel SBB",
                                    "Nach": "Baden",
                                    "Abfahrt": "14:32:00"
                                }
                            ]
                        },
                        "text/html": "<table><tr><th>Zug</th><th>Von</th><th>Nach</th><th>Abfahrt</th></tr><tr><td>1</td><td>Luzern</td><td>Zug</td><td>12:12:00</td></tr><tr><td>1</td><td>Thalwil</td><td>Zürich HB</td><td>12:52:00</td></tr><tr><td>1</td><td>Zug</td><td>Thalwil</td><td>12:37:00</td></tr><tr><td>2</td><td>Thalwil</td><td>Zug</td><td>13:23:00</td></tr><tr><td>2</td><td>Zug</td><td>Luzern</td><td>13:42:00</td></tr><tr><td>2</td><td>Zürich HB</td><td>Thalwil</td><td>13:15:00</td></tr><tr><td>3</td><td>Luzern</td><td>Horw</td><td>14:10:00</td></tr><tr><td>4</td><td>Horw</td><td>Luzern</td><td>14:21:00</td></tr><tr><td>5</td><td>Luzern</td><td>Olten</td><td>14:12:00</td></tr><tr><td>5</td><td>Olten</td><td>Basel SBB</td><td>14:45:00</td></tr><tr><td>6</td><td>Basel SBB</td><td>Olten</td><td>15:12:00</td></tr><tr><td>6</td><td>Olten</td><td>Luzern</td><td>15:36:00</td></tr><tr><td>7</td><td>Baden</td><td>Basel SBB</td><td>13:39:00</td></tr><tr><td>7</td><td>Basel SBB</td><td>Basel Bad</td><td>14:08:00</td></tr><tr><td>7</td><td>Zürich HB</td><td>Baden</td><td>13:25:00</td></tr><tr><td>8</td><td>Baden</td><td>Zürich HB</td><td>15:07:00</td></tr><tr><td>8</td><td>Basel Bad</td><td>Basel SBB</td><td>14:26:00</td></tr><tr><td>8</td><td>Basel SBB</td><td>Baden</td><td>14:32:00</td></tr></table>"
                    },
                    "metadata": {}
                },
                {
                    "output_type": "execute_result",
                    "execution_count": 11,
                    "data": {
                        "application/vnd.dataresource+json": {
                            "schema": {
                                "fields": [
                                    {
                                        "name": "Zug"
                                    },
                                    {
                                        "name": "Von"
                                    },
                                    {
                                        "name": "Nach"
                                    },
                                    {
                                        "name": "Abfahrt"
                                    }
                                ]
                            },
                            "data": [
                                {
                                    "Zug": "7",
                                    "Von": "Basel SBB",
                                    "Nach": "Basel Bad",
                                    "Abfahrt": "14:08:00"
                                },
                                {
                                    "Zug": "8",
                                    "Von": "Basel Bad",
                                    "Nach": "Basel SBB",
                                    "Abfahrt": "14:26:00"
                                },
                                {
                                    "Zug": "8",
                                    "Von": "Basel SBB",
                                    "Nach": "Baden",
                                    "Abfahrt": "14:32:00"
                                }
                            ]
                        },
                        "text/html": "<table><tr><th>Zug</th><th>Von</th><th>Nach</th><th>Abfahrt</th></tr><tr><td>7</td><td>Basel SBB</td><td>Basel Bad</td><td>14:08:00</td></tr><tr><td>8</td><td>Basel Bad</td><td>Basel SBB</td><td>14:26:00</td></tr><tr><td>8</td><td>Basel SBB</td><td>Baden</td><td>14:32:00</td></tr></table>"
                    },
                    "metadata": {}
                }
            ],
            "execution_count": 11
        },
        {
            "cell_type": "code",
            "source": [
                "USE Zugdatenbank;\r\n",
                "GO\r\n",
                "\r\n",
                "SELECT Gleise, LiegtInOrt\r\n",
                "FROM Bahnhoefe\r\n",
                "WHERE LiegtInOrt = 'Thalwil';"
            ],
            "metadata": {
                "azdata_cell_guid": "cc985312-d6ba-4811-9ca7-7b9c930609e1",
                "language": "sql"
            },
            "outputs": [
                {
                    "output_type": "display_data",
                    "data": {
                        "text/html": "Commands completed successfully."
                    },
                    "metadata": {}
                },
                {
                    "output_type": "display_data",
                    "data": {
                        "text/html": "(1 row affected)"
                    },
                    "metadata": {}
                },
                {
                    "output_type": "display_data",
                    "data": {
                        "text/html": "Total execution time: 00:00:00.072"
                    },
                    "metadata": {}
                },
                {
                    "output_type": "execute_result",
                    "execution_count": 12,
                    "data": {
                        "application/vnd.dataresource+json": {
                            "schema": {
                                "fields": [
                                    {
                                        "name": "Gleise"
                                    },
                                    {
                                        "name": "LiegtInOrt"
                                    }
                                ]
                            },
                            "data": [
                                {
                                    "Gleise": "5",
                                    "LiegtInOrt": "Thalwil"
                                }
                            ]
                        },
                        "text/html": "<table><tr><th>Gleise</th><th>LiegtInOrt</th></tr><tr><td>5</td><td>Thalwil</td></tr></table>"
                    },
                    "metadata": {}
                }
            ],
            "execution_count": 12
        },
        {
            "cell_type": "code",
            "source": [
                "USE Zugdatenbank;\r\n",
                "GO\r\n",
                "\r\n",
                "SELECT SUM(Gleise) AS SummeGleise\r\n",
                "FROM Bahnhoefe;"
            ],
            "metadata": {
                "azdata_cell_guid": "9141dbd5-1df2-4ec7-9ba8-5de0b4aecbf3",
                "language": "sql"
            },
            "outputs": [
                {
                    "output_type": "display_data",
                    "data": {
                        "text/html": "Commands completed successfully."
                    },
                    "metadata": {}
                },
                {
                    "output_type": "display_data",
                    "data": {
                        "text/html": "(1 row affected)"
                    },
                    "metadata": {}
                },
                {
                    "output_type": "display_data",
                    "data": {
                        "text/html": "Total execution time: 00:00:00.009"
                    },
                    "metadata": {}
                },
                {
                    "output_type": "execute_result",
                    "execution_count": 20,
                    "data": {
                        "application/vnd.dataresource+json": {
                            "schema": {
                                "fields": [
                                    {
                                        "name": "SummeGleise"
                                    }
                                ]
                            },
                            "data": [
                                {
                                    "SummeGleise": "129"
                                }
                            ]
                        },
                        "text/html": "<table><tr><th>SummeGleise</th></tr><tr><td>129</td></tr></table>"
                    },
                    "metadata": {}
                }
            ],
            "execution_count": 20
        },
        {
            "cell_type": "code",
            "source": [
                "USE Zugdatenbank;\r\n",
                "GO\r\n",
                "\r\n",
                "SELECT SUM(Gleise) AS SummeGleise\r\n",
                "FROM Bahnhoefe\r\n",
                "WHERE LiegtInOrt = 'Zug' OR LiegtInOrt = 'Luzern';"
            ],
            "metadata": {
                "azdata_cell_guid": "dd0e0e63-d89a-43c7-b355-c78f6dd15693",
                "language": "sql"
            },
            "outputs": [
                {
                    "output_type": "display_data",
                    "data": {
                        "text/html": "Commands completed successfully."
                    },
                    "metadata": {}
                },
                {
                    "output_type": "display_data",
                    "data": {
                        "text/html": "(1 row affected)"
                    },
                    "metadata": {}
                },
                {
                    "output_type": "display_data",
                    "data": {
                        "text/html": "Total execution time: 00:00:00.009"
                    },
                    "metadata": {}
                },
                {
                    "output_type": "execute_result",
                    "execution_count": 19,
                    "data": {
                        "application/vnd.dataresource+json": {
                            "schema": {
                                "fields": [
                                    {
                                        "name": "SummeGleise"
                                    }
                                ]
                            },
                            "data": [
                                {
                                    "SummeGleise": "23"
                                }
                            ]
                        },
                        "text/html": "<table><tr><th>SummeGleise</th></tr><tr><td>23</td></tr></table>"
                    },
                    "metadata": {}
                }
            ],
            "execution_count": 19
        },
        {
            "cell_type": "code",
            "source": [
                "USE Zugdatenbank;\r\n",
                "GO\r\n",
                "\r\n",
                "SELECT AVG(Gleise) AS DurchschnittGleise\r\n",
                "FROM Bahnhoefe;"
            ],
            "metadata": {
                "azdata_cell_guid": "fef48e4e-7a4b-4fad-a153-25ff78bbfa8c",
                "language": "sql"
            },
            "outputs": [
                {
                    "output_type": "display_data",
                    "data": {
                        "text/html": "Commands completed successfully."
                    },
                    "metadata": {}
                },
                {
                    "output_type": "display_data",
                    "data": {
                        "text/html": "(1 row affected)"
                    },
                    "metadata": {}
                },
                {
                    "output_type": "display_data",
                    "data": {
                        "text/html": "Total execution time: 00:00:00.008"
                    },
                    "metadata": {}
                },
                {
                    "output_type": "execute_result",
                    "execution_count": 21,
                    "data": {
                        "application/vnd.dataresource+json": {
                            "schema": {
                                "fields": [
                                    {
                                        "name": "DurchschnittGleise"
                                    }
                                ]
                            },
                            "data": [
                                {
                                    "DurchschnittGleise": "14"
                                }
                            ]
                        },
                        "text/html": "<table><tr><th>DurchschnittGleise</th></tr><tr><td>14</td></tr></table>"
                    },
                    "metadata": {}
                }
            ],
            "execution_count": 21
        },
        {
            "cell_type": "code",
            "source": [
                "USE Zugdatenbank;\r\n",
                "GO\r\n",
                "\r\n",
                "SELECT MAX(Abfahrt), Von\r\n",
                "FROM Verbindet\r\n",
                "WHERE Von = 'Basel SBB'\r\n",
                "GROUP BY Von;"
            ],
            "metadata": {
                "azdata_cell_guid": "0daeb4e9-7aa1-4136-9a0e-ed03888f4da8",
                "language": "sql"
            },
            "outputs": [
                {
                    "output_type": "display_data",
                    "data": {
                        "text/html": "Commands completed successfully."
                    },
                    "metadata": {}
                },
                {
                    "output_type": "display_data",
                    "data": {
                        "text/html": "(1 row affected)"
                    },
                    "metadata": {}
                },
                {
                    "output_type": "display_data",
                    "data": {
                        "text/html": "Total execution time: 00:00:00.023"
                    },
                    "metadata": {}
                },
                {
                    "output_type": "execute_result",
                    "execution_count": 23,
                    "data": {
                        "application/vnd.dataresource+json": {
                            "schema": {
                                "fields": [
                                    {
                                        "name": "(No column name)"
                                    },
                                    {
                                        "name": "Von"
                                    }
                                ]
                            },
                            "data": [
                                {
                                    "(No column name)": "15:12:00",
                                    "Von": "Basel SBB"
                                }
                            ]
                        },
                        "text/html": "<table><tr><th>(No column name)</th><th>Von</th></tr><tr><td>15:12:00</td><td>Basel SBB</td></tr></table>"
                    },
                    "metadata": {}
                }
            ],
            "execution_count": 23
        },
        {
            "cell_type": "code",
            "source": [
                "USE Zugdatenbank;\r\n",
                "GO\r\n",
                "\r\n",
                "SELECT Name, Kanton\r\n",
                "FROM Staedte\r\n",
                "WHERE Kanton LIKE '%n';"
            ],
            "metadata": {
                "azdata_cell_guid": "89bd2133-2ca6-4d93-b9e7-0cce1fe28f9a",
                "language": "sql"
            },
            "outputs": [
                {
                    "output_type": "display_data",
                    "data": {
                        "text/html": "Commands completed successfully."
                    },
                    "metadata": {}
                },
                {
                    "output_type": "display_data",
                    "data": {
                        "text/html": "(3 rows affected)"
                    },
                    "metadata": {}
                },
                {
                    "output_type": "display_data",
                    "data": {
                        "text/html": "Total execution time: 00:00:00.066"
                    },
                    "metadata": {}
                },
                {
                    "output_type": "execute_result",
                    "execution_count": 24,
                    "data": {
                        "application/vnd.dataresource+json": {
                            "schema": {
                                "fields": [
                                    {
                                        "name": "Name"
                                    },
                                    {
                                        "name": "Kanton"
                                    }
                                ]
                            },
                            "data": [
                                {
                                    "Name": "Horw",
                                    "Kanton": "Luzern"
                                },
                                {
                                    "Name": "Luzern",
                                    "Kanton": "Luzern"
                                },
                                {
                                    "Name": "Olten",
                                    "Kanton": "Solothurn"
                                }
                            ]
                        },
                        "text/html": "<table><tr><th>Name</th><th>Kanton</th></tr><tr><td>Horw</td><td>Luzern</td></tr><tr><td>Luzern</td><td>Luzern</td></tr><tr><td>Olten</td><td>Solothurn</td></tr></table>"
                    },
                    "metadata": {}
                }
            ],
            "execution_count": 24
        },
        {
            "cell_type": "code",
            "source": [
                "USE Zugdatenbank;\r\n",
                "GO\r\n",
                "\r\n",
                "SELECT Name, Kanton\r\n",
                "FROM Staedte\r\n",
                "WHERE Kanton = Name;"
            ],
            "metadata": {
                "azdata_cell_guid": "0706afa0-dfb2-412f-afdd-2aeac1d70fb2",
                "language": "sql"
            },
            "outputs": [
                {
                    "output_type": "display_data",
                    "data": {
                        "text/html": "Commands completed successfully."
                    },
                    "metadata": {}
                },
                {
                    "output_type": "display_data",
                    "data": {
                        "text/html": "(3 rows affected)"
                    },
                    "metadata": {}
                },
                {
                    "output_type": "display_data",
                    "data": {
                        "text/html": "Total execution time: 00:00:00.021"
                    },
                    "metadata": {}
                },
                {
                    "output_type": "execute_result",
                    "execution_count": 25,
                    "data": {
                        "application/vnd.dataresource+json": {
                            "schema": {
                                "fields": [
                                    {
                                        "name": "Name"
                                    },
                                    {
                                        "name": "Kanton"
                                    }
                                ]
                            },
                            "data": [
                                {
                                    "Name": "Luzern",
                                    "Kanton": "Luzern"
                                },
                                {
                                    "Name": "Zug",
                                    "Kanton": "Zug"
                                },
                                {
                                    "Name": "Zürich",
                                    "Kanton": "Zürich"
                                }
                            ]
                        },
                        "text/html": "<table><tr><th>Name</th><th>Kanton</th></tr><tr><td>Luzern</td><td>Luzern</td></tr><tr><td>Zug</td><td>Zug</td></tr><tr><td>Zürich</td><td>Zürich</td></tr></table>"
                    },
                    "metadata": {}
                }
            ],
            "execution_count": 25
        },
        {
            "cell_type": "code",
            "source": [
                "USE Zugdatenbank;\r\n",
                "GO\r\n",
                "\r\n",
                "SELECT Name, Gleise\r\n",
                "FROM Bahnhoefe\r\n",
                "WHERE Gleise = (SELECT MAX(Gleise) FROM Bahnhoefe);"
            ],
            "metadata": {
                "azdata_cell_guid": "fe685a31-b265-4621-a57c-2279e893c51a",
                "language": "sql"
            },
            "outputs": [
                {
                    "output_type": "display_data",
                    "data": {
                        "text/html": "Commands completed successfully."
                    },
                    "metadata": {}
                },
                {
                    "output_type": "display_data",
                    "data": {
                        "text/html": "(1 row affected)"
                    },
                    "metadata": {}
                },
                {
                    "output_type": "display_data",
                    "data": {
                        "text/html": "Total execution time: 00:00:00.062"
                    },
                    "metadata": {}
                },
                {
                    "output_type": "execute_result",
                    "execution_count": 29,
                    "data": {
                        "application/vnd.dataresource+json": {
                            "schema": {
                                "fields": [
                                    {
                                        "name": "Name"
                                    },
                                    {
                                        "name": "Gleise"
                                    }
                                ]
                            },
                            "data": [
                                {
                                    "Name": "Zürich HB",
                                    "Gleise": "52"
                                }
                            ]
                        },
                        "text/html": "<table><tr><th>Name</th><th>Gleise</th></tr><tr><td>Zürich HB</td><td>52</td></tr></table>"
                    },
                    "metadata": {}
                }
            ],
            "execution_count": 29
        },
        {
            "cell_type": "code",
            "source": [
                "USE Zugdatenbank;\r\n",
                "GO\r\n",
                "\r\n",
                "SELECT COUNT(*)\r\n",
                "FROM Verbindet\r\n",
                "WHERE Von = 'Olten';"
            ],
            "metadata": {
                "azdata_cell_guid": "e864d673-2659-4f4f-b614-d3a30a368001",
                "language": "sql"
            },
            "outputs": [
                {
                    "output_type": "display_data",
                    "data": {
                        "text/html": "Commands completed successfully."
                    },
                    "metadata": {}
                },
                {
                    "output_type": "display_data",
                    "data": {
                        "text/html": "(1 row affected)"
                    },
                    "metadata": {}
                },
                {
                    "output_type": "display_data",
                    "data": {
                        "text/html": "Total execution time: 00:00:00.011"
                    },
                    "metadata": {}
                },
                {
                    "output_type": "execute_result",
                    "execution_count": 35,
                    "data": {
                        "application/vnd.dataresource+json": {
                            "schema": {
                                "fields": [
                                    {
                                        "name": "(No column name)"
                                    }
                                ]
                            },
                            "data": [
                                {
                                    "(No column name)": "2"
                                }
                            ]
                        },
                        "text/html": "<table><tr><th>(No column name)</th></tr><tr><td>2</td></tr></table>"
                    },
                    "metadata": {}
                }
            ],
            "execution_count": 35
        },
        {
            "cell_type": "code",
            "source": [
                "USE Zugdatenbank;\r\n",
                "GO\r\n",
                "\r\n",
                "SELECT Von, COUNT(Von) AS 'Anzahl Abfahrten'\r\n",
                "FROM Verbindet\r\n",
                "GROUP BY Von;"
            ],
            "metadata": {
                "azdata_cell_guid": "422ac5e3-7cbf-4ce2-af2a-d99adc4c5eef",
                "language": "sql"
            },
            "outputs": [
                {
                    "output_type": "display_data",
                    "data": {
                        "text/html": "Commands completed successfully."
                    },
                    "metadata": {}
                },
                {
                    "output_type": "display_data",
                    "data": {
                        "text/html": "(9 rows affected)"
                    },
                    "metadata": {}
                },
                {
                    "output_type": "display_data",
                    "data": {
                        "text/html": "Total execution time: 00:00:00.018"
                    },
                    "metadata": {}
                },
                {
                    "output_type": "execute_result",
                    "execution_count": 37,
                    "data": {
                        "application/vnd.dataresource+json": {
                            "schema": {
                                "fields": [
                                    {
                                        "name": "Von"
                                    },
                                    {
                                        "name": "Anzahl Abfahrten"
                                    }
                                ]
                            },
                            "data": [
                                {
                                    "Von": "Baden",
                                    "Anzahl Abfahrten": "2"
                                },
                                {
                                    "Von": "Basel Bad",
                                    "Anzahl Abfahrten": "1"
                                },
                                {
                                    "Von": "Basel SBB",
                                    "Anzahl Abfahrten": "3"
                                },
                                {
                                    "Von": "Horw",
                                    "Anzahl Abfahrten": "1"
                                },
                                {
                                    "Von": "Luzern",
                                    "Anzahl Abfahrten": "3"
                                },
                                {
                                    "Von": "Olten",
                                    "Anzahl Abfahrten": "2"
                                },
                                {
                                    "Von": "Thalwil",
                                    "Anzahl Abfahrten": "2"
                                },
                                {
                                    "Von": "Zug",
                                    "Anzahl Abfahrten": "2"
                                },
                                {
                                    "Von": "Zürich HB",
                                    "Anzahl Abfahrten": "2"
                                }
                            ]
                        },
                        "text/html": "<table><tr><th>Von</th><th>Anzahl Abfahrten</th></tr><tr><td>Baden</td><td>2</td></tr><tr><td>Basel Bad</td><td>1</td></tr><tr><td>Basel SBB</td><td>3</td></tr><tr><td>Horw</td><td>1</td></tr><tr><td>Luzern</td><td>3</td></tr><tr><td>Olten</td><td>2</td></tr><tr><td>Thalwil</td><td>2</td></tr><tr><td>Zug</td><td>2</td></tr><tr><td>Zürich HB</td><td>2</td></tr></table>"
                    },
                    "metadata": {}
                }
            ],
            "execution_count": 37
        },
        {
            "cell_type": "code",
            "source": [
                "USE Zugdatenbank;\r\n",
                "GO\r\n",
                "\r\n",
                "SELECT LiegtInKanton AS Kanton, SUM(Gleise) AS GleiseImKanton\r\n",
                "FROM Bahnhoefe\r\n",
                "GROUP BY LiegtInKanton;"
            ],
            "metadata": {
                "azdata_cell_guid": "8b5cff38-e236-4c59-b6c4-66ad8d5421f3",
                "language": "sql"
            },
            "outputs": [
                {
                    "output_type": "display_data",
                    "data": {
                        "text/html": "Commands completed successfully."
                    },
                    "metadata": {}
                },
                {
                    "output_type": "display_data",
                    "data": {
                        "text/html": "(6 rows affected)"
                    },
                    "metadata": {}
                },
                {
                    "output_type": "display_data",
                    "data": {
                        "text/html": "Total execution time: 00:00:00.020"
                    },
                    "metadata": {}
                },
                {
                    "output_type": "execute_result",
                    "execution_count": 40,
                    "data": {
                        "application/vnd.dataresource+json": {
                            "schema": {
                                "fields": [
                                    {
                                        "name": "Kanton"
                                    },
                                    {
                                        "name": "GleiseImKanton"
                                    }
                                ]
                            },
                            "data": [
                                {
                                    "Kanton": "Aargau",
                                    "GleiseImKanton": "7"
                                },
                                {
                                    "Kanton": "Basel Stadt",
                                    "GleiseImKanton": "21"
                                },
                                {
                                    "Kanton": "Luzern",
                                    "GleiseImKanton": "18"
                                },
                                {
                                    "Kanton": "Solothurn",
                                    "GleiseImKanton": "18"
                                },
                                {
                                    "Kanton": "Zug",
                                    "GleiseImKanton": "8"
                                },
                                {
                                    "Kanton": "Zürich",
                                    "GleiseImKanton": "57"
                                }
                            ]
                        },
                        "text/html": "<table><tr><th>Kanton</th><th>GleiseImKanton</th></tr><tr><td>Aargau</td><td>7</td></tr><tr><td>Basel Stadt</td><td>21</td></tr><tr><td>Luzern</td><td>18</td></tr><tr><td>Solothurn</td><td>18</td></tr><tr><td>Zug</td><td>8</td></tr><tr><td>Zürich</td><td>57</td></tr></table>"
                    },
                    "metadata": {}
                }
            ],
            "execution_count": 40
        },
        {
            "cell_type": "code",
            "source": [
                "USE Zugdatenbank;\r\n",
                "GO\r\n",
                "\r\n",
                "SELECT Name, Gleise\r\n",
                "FROM Bahnhoefe\r\n",
                "WHERE Gleise = (SELECT MAX(Gleise) FROM Bahnhoefe);"
            ],
            "metadata": {
                "azdata_cell_guid": "58ce2305-83b5-463f-9866-7f07bd43ae2a",
                "language": "sql"
            },
            "outputs": [
                {
                    "output_type": "display_data",
                    "data": {
                        "text/html": "Commands completed successfully."
                    },
                    "metadata": {}
                },
                {
                    "output_type": "display_data",
                    "data": {
                        "text/html": "(1 row affected)"
                    },
                    "metadata": {}
                },
                {
                    "output_type": "display_data",
                    "data": {
                        "text/html": "Total execution time: 00:00:00.022"
                    },
                    "metadata": {}
                },
                {
                    "output_type": "execute_result",
                    "execution_count": 4,
                    "data": {
                        "application/vnd.dataresource+json": {
                            "schema": {
                                "fields": [
                                    {
                                        "name": "Name"
                                    },
                                    {
                                        "name": "Gleise"
                                    }
                                ]
                            },
                            "data": [
                                {
                                    "Name": "Zürich HB",
                                    "Gleise": "52"
                                }
                            ]
                        },
                        "text/html": "<table><tr><th>Name</th><th>Gleise</th></tr><tr><td>Zürich HB</td><td>52</td></tr></table>"
                    },
                    "metadata": {}
                }
            ],
            "execution_count": 4
        },
        {
            "cell_type": "code",
            "source": [
                "USE Zugdatenbank;\r\n",
                "GO\r\n",
                "\r\n",
                "SELECT Name, Gleise \r\n",
                "FROM Bahnhoefe\r\n",
                "WHERE Gleise < ( SELECT AVG(Gleise) FROM Bahnhoefe)"
            ],
            "metadata": {
                "azdata_cell_guid": "4b2cfe3f-9a57-4236-84c6-15d1389f335d",
                "language": "sql"
            },
            "outputs": [
                {
                    "output_type": "display_data",
                    "data": {
                        "text/html": "Commands completed successfully."
                    },
                    "metadata": {}
                },
                {
                    "output_type": "display_data",
                    "data": {
                        "text/html": "(5 rows affected)"
                    },
                    "metadata": {}
                },
                {
                    "output_type": "display_data",
                    "data": {
                        "text/html": "Total execution time: 00:00:00.069"
                    },
                    "metadata": {}
                },
                {
                    "output_type": "execute_result",
                    "execution_count": 6,
                    "data": {
                        "application/vnd.dataresource+json": {
                            "schema": {
                                "fields": [
                                    {
                                        "name": "Name"
                                    },
                                    {
                                        "name": "Gleise"
                                    }
                                ]
                            },
                            "data": [
                                {
                                    "Name": "Baden",
                                    "Gleise": "7"
                                },
                                {
                                    "Name": "Basel Bad",
                                    "Gleise": "4"
                                },
                                {
                                    "Name": "Horw",
                                    "Gleise": "3"
                                },
                                {
                                    "Name": "Thalwil",
                                    "Gleise": "5"
                                },
                                {
                                    "Name": "Zug",
                                    "Gleise": "8"
                                }
                            ]
                        },
                        "text/html": "<table><tr><th>Name</th><th>Gleise</th></tr><tr><td>Baden</td><td>7</td></tr><tr><td>Basel Bad</td><td>4</td></tr><tr><td>Horw</td><td>3</td></tr><tr><td>Thalwil</td><td>5</td></tr><tr><td>Zug</td><td>8</td></tr></table>"
                    },
                    "metadata": {}
                }
            ],
            "execution_count": 6
        },
        {
            "cell_type": "code",
            "source": [
                "USE Zugdatenbank;\r\n",
                "GO\r\n",
                "\r\n",
                "SELECT LiegtInOrt, COUNT(Name) AS Anzahl_Bahnhoefe\r\n",
                "FROM Bahnhoefe\r\n",
                "GROUP BY LiegtInOrt\r\n",
                "HAVING COUNT(Name) > 1;\r\n",
                ""
            ],
            "metadata": {
                "azdata_cell_guid": "40117f8b-c884-4a11-bfc2-f86c3543a540",
                "language": "sql"
            },
            "outputs": [
                {
                    "output_type": "display_data",
                    "data": {
                        "text/html": "Commands completed successfully."
                    },
                    "metadata": {}
                },
                {
                    "output_type": "display_data",
                    "data": {
                        "text/html": "(1 row affected)"
                    },
                    "metadata": {}
                },
                {
                    "output_type": "display_data",
                    "data": {
                        "text/html": "Total execution time: 00:00:00.029"
                    },
                    "metadata": {}
                },
                {
                    "output_type": "execute_result",
                    "execution_count": 23,
                    "data": {
                        "application/vnd.dataresource+json": {
                            "schema": {
                                "fields": [
                                    {
                                        "name": "LiegtInOrt"
                                    },
                                    {
                                        "name": "Anzahl_Bahnhoefe"
                                    }
                                ]
                            },
                            "data": [
                                {
                                    "LiegtInOrt": "Basel",
                                    "Anzahl_Bahnhoefe": "2"
                                }
                            ]
                        },
                        "text/html": "<table><tr><th>LiegtInOrt</th><th>Anzahl_Bahnhoefe</th></tr><tr><td>Basel</td><td>2</td></tr></table>"
                    },
                    "metadata": {}
                }
            ],
            "execution_count": 23
        },
        {
            "cell_type": "code",
            "source": [
                "USE Zugdatenbank;\r\n",
                "GO\r\n",
                "\r\n",
                "SELECT Zug, Abfahrt\r\n",
                "FROM Verbindet\r\n",
                "WHERE Abfahrt > (SELECT MAX(Ankunft) FROM Verbindet WHERE Nach = 'Basel SBB')\r\n",
                "AND VON = 'Basel SBB';\r\n",
                ""
            ],
            "metadata": {
                "azdata_cell_guid": "1f21f1d4-14dd-401c-823e-4ec5346997e3",
                "language": "sql"
            },
            "outputs": [
                {
                    "output_type": "display_data",
                    "data": {
                        "text/html": "Commands completed successfully."
                    },
                    "metadata": {}
                },
                {
                    "output_type": "display_data",
                    "data": {
                        "text/html": "(1 row affected)"
                    },
                    "metadata": {}
                },
                {
                    "output_type": "display_data",
                    "data": {
                        "text/html": "Total execution time: 00:00:00.077"
                    },
                    "metadata": {}
                },
                {
                    "output_type": "execute_result",
                    "execution_count": 31,
                    "data": {
                        "application/vnd.dataresource+json": {
                            "schema": {
                                "fields": [
                                    {
                                        "name": "Zug"
                                    },
                                    {
                                        "name": "Abfahrt"
                                    }
                                ]
                            },
                            "data": [
                                {
                                    "Zug": "6",
                                    "Abfahrt": "15:12:00"
                                }
                            ]
                        },
                        "text/html": "<table><tr><th>Zug</th><th>Abfahrt</th></tr><tr><td>6</td><td>15:12:00</td></tr></table>"
                    },
                    "metadata": {}
                }
            ],
            "execution_count": 31
        },
        {
            "cell_type": "code",
            "source": [
                "USE Zugdatenbank;\r\n",
                "GO\r\n",
                "\r\n",
                "SELECT Zug, Ankunft, Abfahrt, Von, Nach, (SELECT DATEDIFF(minute, Abfahrt, Ankunft)) AS 'Minutes', (SELECT DATEDIFF(second, Abfahrt, Ankunft)) AS 'Sekunden'\r\n",
                "FROM Verbindet\r\n",
                "WHERE Von = 'Zürich HB' AND Nach = 'Baden';"
            ],
            "metadata": {
                "azdata_cell_guid": "b3e7868b-e679-43ed-9cbe-d0d2db8ffbc8",
                "language": "sql"
            },
            "outputs": [
                {
                    "output_type": "display_data",
                    "data": {
                        "text/html": "Commands completed successfully."
                    },
                    "metadata": {}
                },
                {
                    "output_type": "display_data",
                    "data": {
                        "text/html": "(1 row affected)"
                    },
                    "metadata": {}
                },
                {
                    "output_type": "display_data",
                    "data": {
                        "text/html": "(18 rows affected)"
                    },
                    "metadata": {}
                },
                {
                    "output_type": "display_data",
                    "data": {
                        "text/html": "Total execution time: 00:00:00.053"
                    },
                    "metadata": {}
                },
                {
                    "output_type": "execute_result",
                    "metadata": {},
                    "execution_count": 6,
                    "data": {
                        "application/vnd.dataresource+json": {
                            "schema": {
                                "fields": [
                                    {
                                        "name": "Zug"
                                    },
                                    {
                                        "name": "Ankunft"
                                    },
                                    {
                                        "name": "Abfahrt"
                                    },
                                    {
                                        "name": "Von"
                                    },
                                    {
                                        "name": "Nach"
                                    },
                                    {
                                        "name": "Minutes"
                                    },
                                    {
                                        "name": "Sekunden"
                                    }
                                ]
                            },
                            "data": [
                                {
                                    "Zug": "7",
                                    "Ankunft": "13:37:00",
                                    "Abfahrt": "13:25:00",
                                    "Von": "Zürich HB",
                                    "Nach": "Baden",
                                    "Minutes": "12",
                                    "Sekunden": "720"
                                }
                            ]
                        },
                        "text/html": [
                            "<table>",
                            "<tr><th>Zug</th><th>Ankunft</th><th>Abfahrt</th><th>Von</th><th>Nach</th><th>Minutes</th><th>Sekunden</th></tr>",
                            "<tr><td>7</td><td>13:37:00</td><td>13:25:00</td><td>Zürich HB</td><td>Baden</td><td>12</td><td>720</td></tr>",
                            "</table>"
                        ]
                    }
                },
                {
                    "output_type": "execute_result",
                    "metadata": {},
                    "execution_count": 6,
                    "data": {
                        "application/vnd.dataresource+json": {
                            "schema": {
                                "fields": [
                                    {
                                        "name": "Zug"
                                    },
                                    {
                                        "name": "Von"
                                    },
                                    {
                                        "name": "Nach"
                                    }
                                ]
                            },
                            "data": [
                                {
                                    "Zug": "1",
                                    "Von": "Luzern",
                                    "Nach": "Zug"
                                },
                                {
                                    "Zug": "1",
                                    "Von": "Zug",
                                    "Nach": "Thalwil"
                                },
                                {
                                    "Zug": "1",
                                    "Von": "Thalwil",
                                    "Nach": "Zürich HB"
                                },
                                {
                                    "Zug": "2",
                                    "Von": "Zürich HB",
                                    "Nach": "Thalwil"
                                },
                                {
                                    "Zug": "2",
                                    "Von": "Thalwil",
                                    "Nach": "Zug"
                                },
                                {
                                    "Zug": "7",
                                    "Von": "Zürich HB",
                                    "Nach": "Baden"
                                },
                                {
                                    "Zug": "7",
                                    "Von": "Baden",
                                    "Nach": "Basel SBB"
                                },
                                {
                                    "Zug": "2",
                                    "Von": "Zug",
                                    "Nach": "Luzern"
                                },
                                {
                                    "Zug": "7",
                                    "Von": "Basel SBB",
                                    "Nach": "Basel Bad"
                                },
                                {
                                    "Zug": "3",
                                    "Von": "Luzern",
                                    "Nach": "Horw"
                                },
                                {
                                    "Zug": "5",
                                    "Von": "Luzern",
                                    "Nach": "Olten"
                                },
                                {
                                    "Zug": "4",
                                    "Von": "Horw",
                                    "Nach": "Luzern"
                                },
                                {
                                    "Zug": "8",
                                    "Von": "Basel Bad",
                                    "Nach": "Basel SBB"
                                },
                                {
                                    "Zug": "8",
                                    "Von": "Basel SBB",
                                    "Nach": "Baden"
                                },
                                {
                                    "Zug": "5",
                                    "Von": "Olten",
                                    "Nach": "Basel SBB"
                                },
                                {
                                    "Zug": "8",
                                    "Von": "Baden",
                                    "Nach": "Zürich HB"
                                },
                                {
                                    "Zug": "6",
                                    "Von": "Basel SBB",
                                    "Nach": "Olten"
                                },
                                {
                                    "Zug": "6",
                                    "Von": "Olten",
                                    "Nach": "Luzern"
                                }
                            ]
                        },
                        "text/html": [
                            "<table>",
                            "<tr><th>Zug</th><th>Von</th><th>Nach</th></tr>",
                            "<tr><td>1</td><td>Luzern</td><td>Zug</td></tr>",
                            "<tr><td>1</td><td>Zug</td><td>Thalwil</td></tr>",
                            "<tr><td>1</td><td>Thalwil</td><td>Zürich HB</td></tr>",
                            "<tr><td>2</td><td>Zürich HB</td><td>Thalwil</td></tr>",
                            "<tr><td>2</td><td>Thalwil</td><td>Zug</td></tr>",
                            "<tr><td>7</td><td>Zürich HB</td><td>Baden</td></tr>",
                            "<tr><td>7</td><td>Baden</td><td>Basel SBB</td></tr>",
                            "<tr><td>2</td><td>Zug</td><td>Luzern</td></tr>",
                            "<tr><td>7</td><td>Basel SBB</td><td>Basel Bad</td></tr>",
                            "<tr><td>3</td><td>Luzern</td><td>Horw</td></tr>",
                            "<tr><td>5</td><td>Luzern</td><td>Olten</td></tr>",
                            "<tr><td>4</td><td>Horw</td><td>Luzern</td></tr>",
                            "<tr><td>8</td><td>Basel Bad</td><td>Basel SBB</td></tr>",
                            "<tr><td>8</td><td>Basel SBB</td><td>Baden</td></tr>",
                            "<tr><td>5</td><td>Olten</td><td>Basel SBB</td></tr>",
                            "<tr><td>8</td><td>Baden</td><td>Zürich HB</td></tr>",
                            "<tr><td>6</td><td>Basel SBB</td><td>Olten</td></tr>",
                            "<tr><td>6</td><td>Olten</td><td>Luzern</td></tr>",
                            "</table>"
                        ]
                    }
                }
            ],
            "execution_count": 6
        },
        {
            "cell_type": "code",
            "source": [
                "USE Zugdatenbank;\r\n",
                "GO\r\n",
                "\r\n",
                "SELECT DISTINCT Bahnhoefe.Name AS 'Bahnhof', Bahnhoefe.LiegtInKanton AS 'Kanton'\r\n",
                "FROM Verbindet\r\n",
                "INNER JOIN Bahnhoefe ON Verbindet.Nach = Bahnhoefe.Name"
            ],
            "metadata": {
                "azdata_cell_guid": "495ab631-a38e-438d-b4c9-6e605048fbf5",
                "language": "sql",
                "tags": [
                    "hide_input"
                ]
            },
            "outputs": [
                {
                    "output_type": "display_data",
                    "data": {
                        "text/html": "Commands completed successfully."
                    },
                    "metadata": {}
                },
                {
                    "output_type": "display_data",
                    "data": {
                        "text/html": "(9 rows affected)"
                    },
                    "metadata": {}
                },
                {
                    "output_type": "display_data",
                    "data": {
                        "text/html": "Total execution time: 00:00:00.026"
                    },
                    "metadata": {}
                },
                {
                    "output_type": "execute_result",
                    "metadata": {},
                    "execution_count": 2,
                    "data": {
                        "application/vnd.dataresource+json": {
                            "schema": {
                                "fields": [
                                    {
                                        "name": "Bahnhof"
                                    },
                                    {
                                        "name": "Kanton"
                                    }
                                ]
                            },
                            "data": [
                                {
                                    "Bahnhof": "Baden",
                                    "Kanton": "Aargau"
                                },
                                {
                                    "Bahnhof": "Basel Bad",
                                    "Kanton": "Basel Stadt"
                                },
                                {
                                    "Bahnhof": "Basel SBB",
                                    "Kanton": "Basel Stadt"
                                },
                                {
                                    "Bahnhof": "Horw",
                                    "Kanton": "Luzern"
                                },
                                {
                                    "Bahnhof": "Luzern",
                                    "Kanton": "Luzern    "
                                },
                                {
                                    "Bahnhof": "Olten",
                                    "Kanton": "Solothurn"
                                },
                                {
                                    "Bahnhof": "Thalwil",
                                    "Kanton": "Zürich"
                                },
                                {
                                    "Bahnhof": "Zug",
                                    "Kanton": "Zug"
                                },
                                {
                                    "Bahnhof": "Zürich HB",
                                    "Kanton": "Zürich"
                                }
                            ]
                        },
                        "text/html": [
                            "<table>",
                            "<tr><th>Bahnhof</th><th>Kanton</th></tr>",
                            "<tr><td>Baden</td><td>Aargau</td></tr>",
                            "<tr><td>Basel Bad</td><td>Basel Stadt</td></tr>",
                            "<tr><td>Basel SBB</td><td>Basel Stadt</td></tr>",
                            "<tr><td>Horw</td><td>Luzern</td></tr>",
                            "<tr><td>Luzern</td><td>Luzern    </td></tr>",
                            "<tr><td>Olten</td><td>Solothurn</td></tr>",
                            "<tr><td>Thalwil</td><td>Zürich</td></tr>",
                            "<tr><td>Zug</td><td>Zug</td></tr>",
                            "<tr><td>Zürich HB</td><td>Zürich</td></tr>",
                            "</table>"
                        ]
                    }
                }
            ],
            "execution_count": 2
        },
        {
            "cell_type": "code",
            "source": [
                "USE Zugdatenbank;\r\n",
                "GO\r\n",
                "\r\n",
                "SELECT Zug, Von, Nach, Ankunft, Abfahrt\r\n",
                "FROM Verbindet\r\n",
                "INNER JOIN Zuege ON Verbindet.Zug = Zuege.ZugNr\r\n",
                "WHERE Zuege.Start = 'Luzern'\r\n",
                "ORDER BY Abfahrt ASC;"
            ],
            "metadata": {
                "azdata_cell_guid": "1fc69726-01dd-42db-9ddd-6114775fc947",
                "language": "sql"
            },
            "outputs": [
                {
                    "output_type": "display_data",
                    "data": {
                        "text/html": "Commands completed successfully."
                    },
                    "metadata": {}
                },
                {
                    "output_type": "display_data",
                    "data": {
                        "text/html": "(6 rows affected)"
                    },
                    "metadata": {}
                },
                {
                    "output_type": "display_data",
                    "data": {
                        "text/html": "Total execution time: 00:00:00.033"
                    },
                    "metadata": {}
                },
                {
                    "output_type": "execute_result",
                    "metadata": {},
                    "execution_count": 4,
                    "data": {
                        "application/vnd.dataresource+json": {
                            "schema": {
                                "fields": [
                                    {
                                        "name": "Zug"
                                    },
                                    {
                                        "name": "Von"
                                    },
                                    {
                                        "name": "Nach"
                                    },
                                    {
                                        "name": "Ankunft"
                                    },
                                    {
                                        "name": "Abfahrt"
                                    }
                                ]
                            },
                            "data": [
                                {
                                    "Zug": "1",
                                    "Von": "Luzern",
                                    "Nach": "Zug",
                                    "Ankunft": "12:35:00",
                                    "Abfahrt": "12:12:00"
                                },
                                {
                                    "Zug": "1",
                                    "Von": "Zug",
                                    "Nach": "Thalwil",
                                    "Ankunft": "12:50:00",
                                    "Abfahrt": "12:37:00"
                                },
                                {
                                    "Zug": "1",
                                    "Von": "Thalwil",
                                    "Nach": "Zürich HB",
                                    "Ankunft": "13:05:00",
                                    "Abfahrt": "12:52:00"
                                },
                                {
                                    "Zug": "3",
                                    "Von": "Luzern",
                                    "Nach": "Horw",
                                    "Ankunft": "14:14:00",
                                    "Abfahrt": "14:10:00"
                                },
                                {
                                    "Zug": "5",
                                    "Von": "Luzern",
                                    "Nach": "Olten",
                                    "Ankunft": "14:42:00",
                                    "Abfahrt": "14:12:00"
                                },
                                {
                                    "Zug": "5",
                                    "Von": "Olten",
                                    "Nach": "Basel SBB",
                                    "Ankunft": "15:08:00",
                                    "Abfahrt": "14:45:00"
                                }
                            ]
                        },
                        "text/html": [
                            "<table>",
                            "<tr><th>Zug</th><th>Von</th><th>Nach</th><th>Ankunft</th><th>Abfahrt</th></tr>",
                            "<tr><td>1</td><td>Luzern</td><td>Zug</td><td>12:35:00</td><td>12:12:00</td></tr>",
                            "<tr><td>1</td><td>Zug</td><td>Thalwil</td><td>12:50:00</td><td>12:37:00</td></tr>",
                            "<tr><td>1</td><td>Thalwil</td><td>Zürich HB</td><td>13:05:00</td><td>12:52:00</td></tr>",
                            "<tr><td>3</td><td>Luzern</td><td>Horw</td><td>14:14:00</td><td>14:10:00</td></tr>",
                            "<tr><td>5</td><td>Luzern</td><td>Olten</td><td>14:42:00</td><td>14:12:00</td></tr>",
                            "<tr><td>5</td><td>Olten</td><td>Basel SBB</td><td>15:08:00</td><td>14:45:00</td></tr>",
                            "</table>"
                        ]
                    }
                }
            ],
            "execution_count": 4
        }
    ]
}